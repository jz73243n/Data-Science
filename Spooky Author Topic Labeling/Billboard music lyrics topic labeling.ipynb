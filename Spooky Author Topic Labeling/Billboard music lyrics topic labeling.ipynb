{
 "cells": [
  {
   "cell_type": "code",
   "execution_count": 6,
   "metadata": {
    "_cell_guid": "b1076dfc-b9ad-4769-8c92-a6c4dae69d19",
    "_uuid": "8f2839f25d086af736a60e9eeb907d3b93b6e0e5"
   },
   "outputs": [
    {
     "data": {
      "text/html": [
       "        <script type=\"text/javascript\">\n",
       "        window.PlotlyConfig = {MathJaxConfig: 'local'};\n",
       "        if (window.MathJax) {MathJax.Hub.Config({SVG: {font: \"STIX-Web\"}});}\n",
       "        if (typeof require !== 'undefined') {\n",
       "        require.undef(\"plotly\");\n",
       "        requirejs.config({\n",
       "            paths: {\n",
       "                'plotly': ['https://cdn.plot.ly/plotly-latest.min']\n",
       "            }\n",
       "        });\n",
       "        require(['plotly'], function(Plotly) {\n",
       "            window._Plotly = Plotly;\n",
       "        });\n",
       "        }\n",
       "        </script>\n",
       "        "
      ]
     },
     "metadata": {},
     "output_type": "display_data"
    }
   ],
   "source": [
    "import pandas as pd\n",
    "import numpy as np\n",
    "import datetime as dt\n",
    "import matplotlib.pyplot as plt\n",
    "import seaborn as sns\n",
    "sns.set()\n",
    "from sklearn.feature_extraction.text import TfidfVectorizer\n",
    "from sklearn.model_selection import train_test_split\n",
    "from sklearn.linear_model import LogisticRegression\n",
    "from sklearn.naive_bayes import MultinomialNB\n",
    "from sklearn.svm import SVC\n",
    "from sklearn.neural_network import MLPClassifier\n",
    "from sklearn.metrics import confusion_matrix, classification_report, accuracy_score\n",
    "from plotly import tools\n",
    "import plotly.offline as py\n",
    "py.init_notebook_mode(connected=True)\n",
    "import plotly.graph_objs as go\n",
    "%matplotlib inline"
   ]
  },
  {
   "cell_type": "code",
   "execution_count": 7,
   "metadata": {
    "_cell_guid": "79c7e3d0-c299-4dcb-8224-4455121ee9b0",
    "_uuid": "d629ff2d2480ee46fbb7e2d37f6b5fab8052498a"
   },
   "outputs": [],
   "source": [
    "df = pd.read_csv('billboard_lyrics_1964-2015.csv', encoding=\"ISO-8859-1\")"
   ]
  },
  {
   "cell_type": "code",
   "execution_count": 8,
   "metadata": {},
   "outputs": [
    {
     "data": {
      "text/html": [
       "<div>\n",
       "<style scoped>\n",
       "    .dataframe tbody tr th:only-of-type {\n",
       "        vertical-align: middle;\n",
       "    }\n",
       "\n",
       "    .dataframe tbody tr th {\n",
       "        vertical-align: top;\n",
       "    }\n",
       "\n",
       "    .dataframe thead th {\n",
       "        text-align: right;\n",
       "    }\n",
       "</style>\n",
       "<table border=\"1\" class=\"dataframe\">\n",
       "  <thead>\n",
       "    <tr style=\"text-align: right;\">\n",
       "      <th></th>\n",
       "      <th>Rank</th>\n",
       "      <th>Song</th>\n",
       "      <th>Artist</th>\n",
       "      <th>Year</th>\n",
       "      <th>Lyrics</th>\n",
       "      <th>Source</th>\n",
       "    </tr>\n",
       "  </thead>\n",
       "  <tbody>\n",
       "    <tr>\n",
       "      <th>0</th>\n",
       "      <td>1</td>\n",
       "      <td>wooly bully</td>\n",
       "      <td>sam the sham and the pharaohs</td>\n",
       "      <td>1965</td>\n",
       "      <td>sam the sham miscellaneous wooly bully wooly b...</td>\n",
       "      <td>3.0</td>\n",
       "    </tr>\n",
       "    <tr>\n",
       "      <th>1</th>\n",
       "      <td>2</td>\n",
       "      <td>i cant help myself sugar pie honey bunch</td>\n",
       "      <td>four tops</td>\n",
       "      <td>1965</td>\n",
       "      <td>sugar pie honey bunch you know that i love yo...</td>\n",
       "      <td>1.0</td>\n",
       "    </tr>\n",
       "    <tr>\n",
       "      <th>2</th>\n",
       "      <td>3</td>\n",
       "      <td>i cant get no satisfaction</td>\n",
       "      <td>the rolling stones</td>\n",
       "      <td>1965</td>\n",
       "      <td></td>\n",
       "      <td>1.0</td>\n",
       "    </tr>\n",
       "    <tr>\n",
       "      <th>3</th>\n",
       "      <td>4</td>\n",
       "      <td>you were on my mind</td>\n",
       "      <td>we five</td>\n",
       "      <td>1965</td>\n",
       "      <td>when i woke up this morning you were on my mi...</td>\n",
       "      <td>1.0</td>\n",
       "    </tr>\n",
       "    <tr>\n",
       "      <th>4</th>\n",
       "      <td>5</td>\n",
       "      <td>youve lost that lovin feelin</td>\n",
       "      <td>the righteous brothers</td>\n",
       "      <td>1965</td>\n",
       "      <td>you never close your eyes anymore when i kiss...</td>\n",
       "      <td>1.0</td>\n",
       "    </tr>\n",
       "  </tbody>\n",
       "</table>\n",
       "</div>"
      ],
      "text/plain": [
       "   Rank                                      Song  \\\n",
       "0     1                               wooly bully   \n",
       "1     2  i cant help myself sugar pie honey bunch   \n",
       "2     3                i cant get no satisfaction   \n",
       "3     4                       you were on my mind   \n",
       "4     5              youve lost that lovin feelin   \n",
       "\n",
       "                          Artist  Year  \\\n",
       "0  sam the sham and the pharaohs  1965   \n",
       "1                      four tops  1965   \n",
       "2             the rolling stones  1965   \n",
       "3                        we five  1965   \n",
       "4         the righteous brothers  1965   \n",
       "\n",
       "                                              Lyrics  Source  \n",
       "0  sam the sham miscellaneous wooly bully wooly b...     3.0  \n",
       "1   sugar pie honey bunch you know that i love yo...     1.0  \n",
       "2                                                        1.0  \n",
       "3   when i woke up this morning you were on my mi...     1.0  \n",
       "4   you never close your eyes anymore when i kiss...     1.0  "
      ]
     },
     "execution_count": 8,
     "metadata": {},
     "output_type": "execute_result"
    }
   ],
   "source": [
    "df.head()"
   ]
  },
  {
   "cell_type": "code",
   "execution_count": 9,
   "metadata": {},
   "outputs": [
    {
     "data": {
      "text/plain": [
       "Text(0.5,1,'Maximum Lyrics Count By Artist')"
      ]
     },
     "execution_count": 9,
     "metadata": {},
     "output_type": "execute_result"
    },
    {
     "data": {
      "image/png": "[encoded data removed]",
      "text/plain": [
       "<Figure size 1080x360 with 1 Axes>"
      ]
     },
     "metadata": {
      "needs_background": "light"
     },
     "output_type": "display_data"
    }
   ],
   "source": [
    "plt.figure(figsize=(15,5))\n",
    "df['Artist'].value_counts()[:31].plot(kind='bar',color='teal')\n",
    "plt.title(\"Maximum Lyrics Count By Artist\",fontsize=20)"
   ]
  },
  {
   "cell_type": "code",
   "execution_count": 25,
   "metadata": {},
   "outputs": [
    {
     "data": {
      "text/plain": [
       "bruno mars         3\n",
       "maroon 5           3\n",
       "imagine dragons    3\n",
       "miley cyrus        2\n",
       "fun                2\n",
       "hunter hayes       2\n",
       "Name: Artist, dtype: int64"
      ]
     },
     "execution_count": 25,
     "metadata": {},
     "output_type": "execute_result"
    }
   ],
   "source": [
    "def topartist(year):\n",
    "    df2 = df[df['Year'] == year]\n",
    "    artist = df2['Artist'].value_counts()[:6]\n",
    "    return artist\n",
    "\n",
    "topartist(2013)"
   ]
  },
  {
   "cell_type": "code",
   "execution_count": 11,
   "metadata": {},
   "outputs": [
    {
     "name": "stderr",
     "output_type": "stream",
     "text": [
      "[nltk_data] Downloading package stopwords to\n",
      "[nltk_data]     /Users/jamiezeng/nltk_data...\n",
      "[nltk_data]   Package stopwords is already up-to-date!\n"
     ]
    }
   ],
   "source": [
    "#plot top words from lyrics after cleaning\n",
    "import string\n",
    "import nltk\n",
    "nltk.download('stopwords')\n",
    "from nltk.corpus import stopwords\n"
   ]
  },
  {
   "cell_type": "code",
   "execution_count": 12,
   "metadata": {},
   "outputs": [
    {
     "data": {
      "text/plain": [
       "Rank        0\n",
       "Song        0\n",
       "Artist      0\n",
       "Year        0\n",
       "Lyrics    187\n",
       "Source    187\n",
       "dtype: int64"
      ]
     },
     "execution_count": 12,
     "metadata": {},
     "output_type": "execute_result"
    }
   ],
   "source": [
    "df.isnull().sum()"
   ]
  },
  {
   "cell_type": "code",
   "execution_count": 13,
   "metadata": {},
   "outputs": [],
   "source": [
    "df.dropna(inplace=True)"
   ]
  },
  {
   "cell_type": "markdown",
   "metadata": {},
   "source": [
    "**Remove Stopwords**"
   ]
  },
  {
   "cell_type": "code",
   "execution_count": 14,
   "metadata": {},
   "outputs": [],
   "source": [
    "def remove_stopwords(text):\n",
    "    text = [word.lower() for word in text.split() if word.lower() not in stopwords.words('english')]\n",
    "    return \" \".join(text)"
   ]
  },
  {
   "cell_type": "code",
   "execution_count": 15,
   "metadata": {},
   "outputs": [],
   "source": [
    "df['Lyrics'] = df['Lyrics'].apply(remove_stopwords)"
   ]
  },
  {
   "cell_type": "markdown",
   "metadata": {},
   "source": [
    "**Stemming**"
   ]
  },
  {
   "cell_type": "code",
   "execution_count": 16,
   "metadata": {},
   "outputs": [],
   "source": [
    "from nltk.stem.snowball import SnowballStemmer\n",
    "stemmer = SnowballStemmer(\"english\")\n",
    "def stemming(text):    \n",
    "    text = [stemmer.stem(word) for word in text.split()]\n",
    "    return \" \".join(text)"
   ]
  },
  {
   "cell_type": "code",
   "execution_count": 17,
   "metadata": {},
   "outputs": [],
   "source": [
    "df['Lyrics'] = df['Lyrics'].apply(stemming)"
   ]
  },
  {
   "cell_type": "code",
   "execution_count": 26,
   "metadata": {},
   "outputs": [
    {
     "data": {
      "text/plain": [
       "love    16832\n",
       "im      14278\n",
       "know    11796\n",
       "dont    11588\n",
       "like    11078\n",
       "oh       9741\n",
       "get      9226\n",
       "babi     9186\n",
       "got      8337\n",
       "want     7272\n",
       "dtype: int64"
      ]
     },
     "execution_count": 26,
     "metadata": {},
     "output_type": "execute_result"
    }
   ],
   "source": [
    "lyrics = df['Lyrics'].str.split(expand=True).unstack().value_counts()\n",
    "lyrics.head(10)"
   ]
  },
  {
   "cell_type": "code",
   "execution_count": 19,
   "metadata": {},
   "outputs": [
    {
     "data": {
      "application/vnd.plotly.v1+json": {
       "config": {
        "linkText": "Export to plot.ly",
        "plotlyServerURL": "https://plot.ly",
        "showLink": false
       },
       "data": [
        {
         "marker": {
          "color": [
           16832,
           14278,
           11796,
           11588,
           11078,
           9741,
           9226,
           9186,
           8337,
           7272,
           7209,
           6689,
           6627,
           6593,
           6259,
           6183,
           5810,
           5745,
           5630,
           5432,
           5401,
           5338,
           5311,
           4881,
           4767,
           4753,
           4739,
           4689,
           4550,
           4243,
           4218,
           3989,
           3986,
           3960,
           3749,
           3593,
           3441,
           3259,
           3227,
           3151,
           3071,
           3002,
           3001,
           2926,
           2897,
           2895,
           2727,
           2652,
           2582,
           2565,
           2553
          ],
          "colorscale": "Viridis"
         },
         "text": "Word counts",
         "type": "bar",
         "uid": "c5950c5a-5da1-462f-a980-4472d6d24f9d",
         "x": [
          "love",
          "im",
          "know",
          "dont",
          "like",
          "oh",
          "get",
          "babi",
          "got",
          "want",
          "go",
          "let",
          "make",
          "your",
          "yeah",
          "come",
          "time",
          "girl",
          "one",
          "say",
          "see",
          "cant",
          "feel",
          "take",
          "wanna",
          "never",
          "caus",
          "way",
          "gonna",
          "need",
          "ill",
          "night",
          "back",
          "right",
          "tell",
          "aint",
          "give",
          "thing",
          "heart",
          "think",
          "look",
          "life",
          "could",
          "keep",
          "good",
          "day",
          "that",
          "ive",
          "away",
          "man",
          "littl"
         ],
         "y": [
          16832,
          14278,
          11796,
          11588,
          11078,
          9741,
          9226,
          9186,
          8337,
          7272,
          7209,
          6689,
          6627,
          6593,
          6259,
          6183,
          5810,
          5745,
          5630,
          5432,
          5401,
          5338,
          5311,
          4881,
          4767,
          4753,
          4739,
          4689,
          4550,
          4243,
          4218,
          3989,
          3986,
          3960,
          3749,
          3593,
          3441,
          3259,
          3227,
          3151,
          3071,
          3002,
          3001,
          2926,
          2897,
          2895,
          2727,
          2652,
          2582,
          2565,
          2553
         ]
        }
       ],
       "layout": {
        "title": {
         "text": "Top Words Distribution (After cleaning)"
        },
        "xaxis": {
         "tickangle": -45
        }
       }
      },
      "text/html": [
       "<div>\n",
       "        \n",
       "        \n",
       "            <div id=\"ba14cc88-264a-42b1-9386-17b39e63c164\" class=\"plotly-graph-div\" style=\"height:525px; width:100%;\"></div>\n",
       "            <script type=\"text/javascript\">\n",
       "                require([\"plotly\"], function(Plotly) {\n",
       "                    window.PLOTLYENV=window.PLOTLYENV || {};\n",
       "                    window.PLOTLYENV.BASE_URL='https://plot.ly';\n",
       "                    \n",
       "                if (document.getElementById(\"ba14cc88-264a-42b1-9386-17b39e63c164\")) {\n",
       "                    Plotly.newPlot(\n",
       "                        'ba14cc88-264a-42b1-9386-17b39e63c164',\n",
       "                        [{\"marker\": {\"color\": [16832, 14278, 11796, 11588, 11078, 9741, 9226, 9186, 8337, 7272, 7209, 6689, 6627, 6593, 6259, 6183, 5810, 5745, 5630, 5432, 5401, 5338, 5311, 4881, 4767, 4753, 4739, 4689, 4550, 4243, 4218, 3989, 3986, 3960, 3749, 3593, 3441, 3259, 3227, 3151, 3071, 3002, 3001, 2926, 2897, 2895, 2727, 2652, 2582, 2565, 2553], \"colorscale\": \"Viridis\"}, \"text\": \"Word counts\", \"type\": \"bar\", \"uid\": \"c5950c5a-5da1-462f-a980-4472d6d24f9d\", \"x\": [\"love\", \"im\", \"know\", \"dont\", \"like\", \"oh\", \"get\", \"babi\", \"got\", \"want\", \"go\", \"let\", \"make\", \"your\", \"yeah\", \"come\", \"time\", \"girl\", \"one\", \"say\", \"see\", \"cant\", \"feel\", \"take\", \"wanna\", \"never\", \"caus\", \"way\", \"gonna\", \"need\", \"ill\", \"night\", \"back\", \"right\", \"tell\", \"aint\", \"give\", \"thing\", \"heart\", \"think\", \"look\", \"life\", \"could\", \"keep\", \"good\", \"day\", \"that\", \"ive\", \"away\", \"man\", \"littl\"], \"y\": [16832, 14278, 11796, 11588, 11078, 9741, 9226, 9186, 8337, 7272, 7209, 6689, 6627, 6593, 6259, 6183, 5810, 5745, 5630, 5432, 5401, 5338, 5311, 4881, 4767, 4753, 4739, 4689, 4550, 4243, 4218, 3989, 3986, 3960, 3749, 3593, 3441, 3259, 3227, 3151, 3071, 3002, 3001, 2926, 2897, 2895, 2727, 2652, 2582, 2565, 2553]}],\n",
       "                        {\"title\": {\"text\": \"Top Words Distribution (After cleaning)\"}, \"xaxis\": {\"tickangle\": -45}},\n",
       "                        {\"showLink\": false, \"linkText\": \"Export to plot.ly\", \"plotlyServerURL\": \"https://plot.ly\", \"responsive\": true}\n",
       "                    ).then(function(){\n",
       "                            \n",
       "var gd = document.getElementById('ba14cc88-264a-42b1-9386-17b39e63c164');\n",
       "var x = new MutationObserver(function (mutations, observer) {{\n",
       "        var display = window.getComputedStyle(gd).display;\n",
       "        if (!display || display === 'none') {{\n",
       "            console.log([gd, 'removed!']);\n",
       "            Plotly.purge(gd);\n",
       "            observer.disconnect();\n",
       "        }}\n",
       "}});\n",
       "\n",
       "// Listen for the removal of the full notebook cells\n",
       "var notebookContainer = gd.closest('#notebook-container');\n",
       "if (notebookContainer) {{\n",
       "    x.observe(notebookContainer, {childList: true});\n",
       "}}\n",
       "\n",
       "// Listen for the clearing of the current output cell\n",
       "var outputEl = gd.closest('.output');\n",
       "if (outputEl) {{\n",
       "    x.observe(outputEl, {childList: true});\n",
       "}}\n",
       "\n",
       "                        })\n",
       "                };\n",
       "                });\n",
       "            </script>\n",
       "        </div>"
      ]
     },
     "metadata": {},
     "output_type": "display_data"
    }
   ],
   "source": [
    "trace=[go.Bar(\n",
    "        x=lyrics.index[:51],\n",
    "        y=lyrics.values[:51], \n",
    "        marker= dict(colorscale='Viridis', color = lyrics.values[:51]),\n",
    "        text='Word counts', \n",
    "        )]\n",
    "\n",
    "layout = go.Layout(title='Top Words Distribution (After cleaning)', xaxis=dict(tickangle=-45))\n",
    "fig = go.Figure(data=trace, layout=layout)\n",
    "py.iplot(fig)"
   ]
  },
  {
   "cell_type": "markdown",
   "metadata": {},
   "source": [
    "\n",
    "**As we can see, even plotting the top words can't still tell us the overall sentiments of the reviews. We are going to apply Latent Dirichlet Allocation model for topic labeling purpose**"
   ]
  },
  {
   "cell_type": "code",
   "execution_count": 20,
   "metadata": {},
   "outputs": [
    {
     "data": {
      "text/plain": [
       "<4913x12851 sparse matrix of type '<class 'numpy.int64'>'\n",
       "\twith 354413 stored elements in Compressed Sparse Row format>"
      ]
     },
     "execution_count": 20,
     "metadata": {},
     "output_type": "execute_result"
    }
   ],
   "source": [
    "from sklearn.feature_extraction.text import CountVectorizer\n",
    "cv = CountVectorizer(max_df=0.9, min_df=2)\n",
    "#cv = CountVectorizer(max_df=0.9, min_df=2, stopwords = 'english') if not apply stopwords function above\n",
    "dtm = cv.fit_transform(df['Lyrics'])\n",
    "dtm"
   ]
  },
  {
   "cell_type": "code",
   "execution_count": 21,
   "metadata": {},
   "outputs": [],
   "source": [
    "from sklearn.decomposition import LatentDirichletAllocation\n",
    "LDA = LatentDirichletAllocation(n_components=7, random_state=42)"
   ]
  },
  {
   "cell_type": "code",
   "execution_count": 30,
   "metadata": {},
   "outputs": [
    {
     "name": "stdout",
     "output_type": "stream",
     "text": [
      "make\n",
      "man\n",
      "see\n",
      "shit\n",
      "put\n",
      "money\n",
      "caus\n",
      "uh\n",
      "boy\n",
      "nigga\n",
      "dont\n",
      "em\n",
      "girl\n",
      "back\n",
      "know\n",
      "aint\n",
      "get\n",
      "got\n",
      "im\n",
      "like\n"
     ]
    }
   ],
   "source": [
    "LDA.fit(dtm)\n",
    "single_topic = LDA.components_[0]\n",
    "top_twenty_words = single_topic.argsort()[-20:]\n",
    "for index in top_twenty_words:\n",
    "    print(cv.get_feature_names()[index])"
   ]
  },
  {
   "cell_type": "code",
   "execution_count": 23,
   "metadata": {},
   "outputs": [
    {
     "name": "stdout",
     "output_type": "stream",
     "text": [
      "The top 20 words for topic #0\n",
      "['make', 'man', 'see', 'shit', 'put', 'money', 'caus', 'uh', 'boy', 'nigga', 'dont', 'em', 'girl', 'back', 'know', 'aint', 'get', 'got', 'im', 'like']\n",
      "\n",
      "\n",
      "The top 20 words for topic #1\n",
      "['get', 'got', 'give', 'good', 'take', 'know', 'right', 'see', 'babi', 'tonight', 'oh', 'littl', 'like', 'gonna', 'shake', 'let', 'im', 'come', 'na', 'go']\n",
      "\n",
      "\n",
      "The top 20 words for topic #2\n",
      "['let', 'say', 'make', 'yeah', 'need', 'caus', 'la', 'got', 'like', 'cant', 'gonna', 'want', 'girl', 'your', 'know', 'im', 'dont', 'love', 'babi', 'oh']\n",
      "\n",
      "\n",
      "The top 20 words for topic #3\n",
      "['want', 'bodi', 'parti', 'ya', 'roll', 'babi', 'oh', 'beat', 'keep', 'got', 'go', 'hey', 'night', 'come', 'dont', 'rock', 'danc', 'da', 'let', 'get']\n",
      "\n",
      "\n",
      "The top 20 words for topic #4\n",
      "['ever', 'take', 'said', 'back', 'fire', 'got', 'red', 'music', 'boy', 'live', 'hand', 'bodi', 'like', 'girl', 'danc', 'come', 'night', 'shes', 'want', 'yeah']\n",
      "\n",
      "\n",
      "The top 20 words for topic #5\n",
      "['like', 'say', 'day', 'life', 'your', 'away', 'way', 'make', 'go', 'see', 'ill', 'dont', 'heart', 'feel', 'one', 'im', 'never', 'time', 'know', 'love']\n",
      "\n",
      "\n",
      "The top 20 words for topic #6\n",
      "['hey', 'ooh', 'let', 'right', 'littl', 'yeah', 'thing', 'babi', 'like', 'get', 'say', 'dont', 'want', 'know', 'ya', 'im', 'got', 'make', 'love', 'wanna']\n",
      "\n",
      "\n"
     ]
    }
   ],
   "source": [
    "for i, topic in enumerate(LDA.components_):\n",
    "    print(f'The top 20 words for topic #{i}')\n",
    "    print([cv.get_feature_names()[index] for index in topic.argsort()[-20:]])\n",
    "    print('\\n')"
   ]
  },
  {
   "cell_type": "markdown",
   "metadata": {},
   "source": [
    "**Creat a new column and put the labels in**"
   ]
  },
  {
   "cell_type": "code",
   "execution_count": 31,
   "metadata": {},
   "outputs": [],
   "source": [
    "top_result = LDA.transform(dtm)"
   ]
  },
  {
   "cell_type": "code",
   "execution_count": 32,
   "metadata": {},
   "outputs": [
    {
     "data": {
      "text/html": [
       "<div>\n",
       "<style scoped>\n",
       "    .dataframe tbody tr th:only-of-type {\n",
       "        vertical-align: middle;\n",
       "    }\n",
       "\n",
       "    .dataframe tbody tr th {\n",
       "        vertical-align: top;\n",
       "    }\n",
       "\n",
       "    .dataframe thead th {\n",
       "        text-align: right;\n",
       "    }\n",
       "</style>\n",
       "<table border=\"1\" class=\"dataframe\">\n",
       "  <thead>\n",
       "    <tr style=\"text-align: right;\">\n",
       "      <th></th>\n",
       "      <th>Rank</th>\n",
       "      <th>Song</th>\n",
       "      <th>Artist</th>\n",
       "      <th>Year</th>\n",
       "      <th>Lyrics</th>\n",
       "      <th>Source</th>\n",
       "      <th>Topic</th>\n",
       "    </tr>\n",
       "  </thead>\n",
       "  <tbody>\n",
       "    <tr>\n",
       "      <th>0</th>\n",
       "      <td>1</td>\n",
       "      <td>wooly bully</td>\n",
       "      <td>sam the sham and the pharaohs</td>\n",
       "      <td>1965</td>\n",
       "      <td>sam sham miscellan wooli bulli wooli bulli sam...</td>\n",
       "      <td>3.0</td>\n",
       "      <td>1</td>\n",
       "    </tr>\n",
       "    <tr>\n",
       "      <th>1</th>\n",
       "      <td>2</td>\n",
       "      <td>i cant help myself sugar pie honey bunch</td>\n",
       "      <td>four tops</td>\n",
       "      <td>1965</td>\n",
       "      <td>sugar pie honey bunch know love cant help love...</td>\n",
       "      <td>1.0</td>\n",
       "      <td>2</td>\n",
       "    </tr>\n",
       "    <tr>\n",
       "      <th>2</th>\n",
       "      <td>3</td>\n",
       "      <td>i cant get no satisfaction</td>\n",
       "      <td>the rolling stones</td>\n",
       "      <td>1965</td>\n",
       "      <td></td>\n",
       "      <td>1.0</td>\n",
       "      <td>0</td>\n",
       "    </tr>\n",
       "    <tr>\n",
       "      <th>3</th>\n",
       "      <td>4</td>\n",
       "      <td>you were on my mind</td>\n",
       "      <td>we five</td>\n",
       "      <td>1965</td>\n",
       "      <td>woke morn mind mind got troubl whoaoh got worr...</td>\n",
       "      <td>1.0</td>\n",
       "      <td>0</td>\n",
       "    </tr>\n",
       "    <tr>\n",
       "      <th>4</th>\n",
       "      <td>5</td>\n",
       "      <td>youve lost that lovin feelin</td>\n",
       "      <td>the righteous brothers</td>\n",
       "      <td>1965</td>\n",
       "      <td>never close eye anymor kiss lip there tender l...</td>\n",
       "      <td>1.0</td>\n",
       "      <td>2</td>\n",
       "    </tr>\n",
       "    <tr>\n",
       "      <th>5</th>\n",
       "      <td>6</td>\n",
       "      <td>downtown</td>\n",
       "      <td>petula clark</td>\n",
       "      <td>1965</td>\n",
       "      <td>your alon life make lone alway go downtown you...</td>\n",
       "      <td>1.0</td>\n",
       "      <td>5</td>\n",
       "    </tr>\n",
       "    <tr>\n",
       "      <th>6</th>\n",
       "      <td>7</td>\n",
       "      <td>help</td>\n",
       "      <td>the beatles</td>\n",
       "      <td>1965</td>\n",
       "      <td>help need somebodi help anybodi help know need...</td>\n",
       "      <td>3.0</td>\n",
       "      <td>5</td>\n",
       "    </tr>\n",
       "    <tr>\n",
       "      <th>7</th>\n",
       "      <td>8</td>\n",
       "      <td>cant you hear my heart beat</td>\n",
       "      <td>hermans hermits</td>\n",
       "      <td>1965</td>\n",
       "      <td>carterlewi everi time see lookin way babi babi...</td>\n",
       "      <td>5.0</td>\n",
       "      <td>2</td>\n",
       "    </tr>\n",
       "    <tr>\n",
       "      <th>8</th>\n",
       "      <td>9</td>\n",
       "      <td>crying in the chapel</td>\n",
       "      <td>elvis presley</td>\n",
       "      <td>1965</td>\n",
       "      <td>saw cri chapel tear shed tear joy know mean co...</td>\n",
       "      <td>1.0</td>\n",
       "      <td>5</td>\n",
       "    </tr>\n",
       "    <tr>\n",
       "      <th>9</th>\n",
       "      <td>10</td>\n",
       "      <td>my girl</td>\n",
       "      <td>the temptations</td>\n",
       "      <td>1965</td>\n",
       "      <td>ive got sunshin cloudi day cold outsid ive got...</td>\n",
       "      <td>3.0</td>\n",
       "      <td>2</td>\n",
       "    </tr>\n",
       "    <tr>\n",
       "      <th>10</th>\n",
       "      <td>11</td>\n",
       "      <td>help me rhonda</td>\n",
       "      <td>the beach boys</td>\n",
       "      <td>1965</td>\n",
       "      <td>well sinc put doin head come late night mornin...</td>\n",
       "      <td>3.0</td>\n",
       "      <td>6</td>\n",
       "    </tr>\n",
       "    <tr>\n",
       "      <th>11</th>\n",
       "      <td>12</td>\n",
       "      <td>king of the road</td>\n",
       "      <td>roger miller</td>\n",
       "      <td>1965</td>\n",
       "      <td>trailer sale rent room let fifti cent phone po...</td>\n",
       "      <td>1.0</td>\n",
       "      <td>0</td>\n",
       "    </tr>\n",
       "    <tr>\n",
       "      <th>12</th>\n",
       "      <td>13</td>\n",
       "      <td>the birds and the bees</td>\n",
       "      <td>jewel akens</td>\n",
       "      <td>1965</td>\n",
       "      <td>let tell ya bout bird bee flower tree moon thi...</td>\n",
       "      <td>3.0</td>\n",
       "      <td>6</td>\n",
       "    </tr>\n",
       "    <tr>\n",
       "      <th>13</th>\n",
       "      <td>14</td>\n",
       "      <td>hold me thrill me kiss me</td>\n",
       "      <td>mel carter</td>\n",
       "      <td>1965</td>\n",
       "      <td>hold hold never let go youv told told want kno...</td>\n",
       "      <td>1.0</td>\n",
       "      <td>5</td>\n",
       "    </tr>\n",
       "    <tr>\n",
       "      <th>14</th>\n",
       "      <td>15</td>\n",
       "      <td>shotgun</td>\n",
       "      <td>junior walker  the all stars</td>\n",
       "      <td>1965</td>\n",
       "      <td>said ì¢shotgun shoot em run jerk babi jerk hey...</td>\n",
       "      <td>3.0</td>\n",
       "      <td>0</td>\n",
       "    </tr>\n",
       "  </tbody>\n",
       "</table>\n",
       "</div>"
      ],
      "text/plain": [
       "    Rank                                      Song  \\\n",
       "0      1                               wooly bully   \n",
       "1      2  i cant help myself sugar pie honey bunch   \n",
       "2      3                i cant get no satisfaction   \n",
       "3      4                       you were on my mind   \n",
       "4      5              youve lost that lovin feelin   \n",
       "5      6                                  downtown   \n",
       "6      7                                      help   \n",
       "7      8               cant you hear my heart beat   \n",
       "8      9                      crying in the chapel   \n",
       "9     10                                   my girl   \n",
       "10    11                            help me rhonda   \n",
       "11    12                          king of the road   \n",
       "12    13                    the birds and the bees   \n",
       "13    14                 hold me thrill me kiss me   \n",
       "14    15                                   shotgun   \n",
       "\n",
       "                           Artist  Year  \\\n",
       "0   sam the sham and the pharaohs  1965   \n",
       "1                       four tops  1965   \n",
       "2              the rolling stones  1965   \n",
       "3                         we five  1965   \n",
       "4          the righteous brothers  1965   \n",
       "5                    petula clark  1965   \n",
       "6                     the beatles  1965   \n",
       "7                 hermans hermits  1965   \n",
       "8                   elvis presley  1965   \n",
       "9                 the temptations  1965   \n",
       "10                 the beach boys  1965   \n",
       "11                   roger miller  1965   \n",
       "12                    jewel akens  1965   \n",
       "13                     mel carter  1965   \n",
       "14   junior walker  the all stars  1965   \n",
       "\n",
       "                                               Lyrics  Source  Topic  \n",
       "0   sam sham miscellan wooli bulli wooli bulli sam...     3.0      1  \n",
       "1   sugar pie honey bunch know love cant help love...     1.0      2  \n",
       "2                                                         1.0      0  \n",
       "3   woke morn mind mind got troubl whoaoh got worr...     1.0      0  \n",
       "4   never close eye anymor kiss lip there tender l...     1.0      2  \n",
       "5   your alon life make lone alway go downtown you...     1.0      5  \n",
       "6   help need somebodi help anybodi help know need...     3.0      5  \n",
       "7   carterlewi everi time see lookin way babi babi...     5.0      2  \n",
       "8   saw cri chapel tear shed tear joy know mean co...     1.0      5  \n",
       "9   ive got sunshin cloudi day cold outsid ive got...     3.0      2  \n",
       "10  well sinc put doin head come late night mornin...     3.0      6  \n",
       "11  trailer sale rent room let fifti cent phone po...     1.0      0  \n",
       "12  let tell ya bout bird bee flower tree moon thi...     3.0      6  \n",
       "13  hold hold never let go youv told told want kno...     1.0      5  \n",
       "14  said ì¢shotgun shoot em run jerk babi jerk hey...     3.0      0  "
      ]
     },
     "execution_count": 32,
     "metadata": {},
     "output_type": "execute_result"
    }
   ],
   "source": [
    "df['Topic'] = top_result.argmax(axis=1)\n",
    "df.head(15)"
   ]
  },
  {
   "cell_type": "code",
   "execution_count": null,
   "metadata": {},
   "outputs": [],
   "source": []
  }
 ],
 "metadata": {
  "kernelspec": {
   "display_name": "Python 3",
   "language": "python",
   "name": "python3"
  },
  "language_info": {
   "codemirror_mode": {
    "name": "ipython",
    "version": 3
   },
   "file_extension": ".py",
   "mimetype": "text/x-python",
   "name": "python",
   "nbconvert_exporter": "python",
   "pygments_lexer": "ipython3",
   "version": "3.6.0"
  }
 },
 "nbformat": 4,
 "nbformat_minor": 1
}
